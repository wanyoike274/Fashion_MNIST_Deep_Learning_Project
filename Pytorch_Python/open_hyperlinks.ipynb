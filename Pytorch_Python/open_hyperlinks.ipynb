{
 "cells": [
  {
   "cell_type": "code",
   "execution_count": null,
   "id": "f9613433-19d9-4287-803f-48e634e9ee65",
   "metadata": {},
   "outputs": [],
   "source": []
  },
  {
   "cell_type": "code",
   "execution_count": null,
   "id": "16fc9fb2-d018-4293-a598-788d887e6f77",
   "metadata": {},
   "outputs": [],
   "source": [
    "import requests\n",
    "from bs4 import BeautifulSoup\n",
    "import webbrowser\n",
    "\n",
    "# Replace this with the URL of your GitHub webpage\n",
    "github_url = \"https://github.com/yourusername/yourrepository\"\n",
    "\n",
    "# Send a GET request to the GitHub webpage\n",
    "response = requests.get(github_url)\n",
    "html_content = response.text\n",
    "\n",
    "# Parse the HTML content using BeautifulSoup\n",
    "soup = BeautifulSoup(html_content, 'html.parser')\n",
    "\n",
    "# Find all the hyperlinks on the webpage\n",
    "hyperlinks = soup.find_all('a')\n",
    "\n",
    "# Extract and open each hyperlink in a new tab\n",
    "for link in hyperlinks:\n",
    "    hyperlink = link.get('href')\n",
    "    if hyperlink and hyperlink.startswith('http'):\n",
    "        webbrowser.open_new_tab(hyperlink)\n",
    "\n",
    "print(\"All hyperlinks opened in separate tabs.\")\n"
   ]
  }
 ],
 "metadata": {
  "kernelspec": {
   "display_name": "Python 3 (ipykernel)",
   "language": "python",
   "name": "python3"
  },
  "language_info": {
   "codemirror_mode": {
    "name": "ipython",
    "version": 3
   },
   "file_extension": ".py",
   "mimetype": "text/x-python",
   "name": "python",
   "nbconvert_exporter": "python",
   "pygments_lexer": "ipython3",
   "version": "3.9.13"
  }
 },
 "nbformat": 4,
 "nbformat_minor": 5
}
